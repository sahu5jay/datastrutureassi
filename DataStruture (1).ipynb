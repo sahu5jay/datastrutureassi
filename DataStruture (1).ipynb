{
  "nbformat": 4,
  "nbformat_minor": 0,
  "metadata": {
    "colab": {
      "provenance": [],
      "toc_visible": true
    },
    "kernelspec": {
      "name": "python3",
      "display_name": "Python 3"
    },
    "language_info": {
      "name": "python"
    }
  },
  "cells": [
    {
      "cell_type": "code",
      "execution_count": null,
      "metadata": {
        "id": "8mAi1bTXuMQo"
      },
      "outputs": [],
      "source": []
    },
    {
      "cell_type": "markdown",
      "source": [
        "Que-1 What are data structures, and why are they important?\n",
        "  Ans-1 Data struture is the why of writing the  program efficiently and to reduce the time complexity of the code and to minimise the size of the program so that it can handel the large data set and minmize the time.\n",
        "\n",
        "Que-2  Explain the difference between mutable and immutable data types with examples?\n",
        "  Ans-2 Mutable data type are the data set that can be changed after its assignment.\n",
        "  Immutable data are the data type which cannot be changed after its assignment or new object will be created.\n",
        "\n",
        "Que-3 What are the main differences between lists and tuples in Python?\n",
        "  Ans-3 list and tuples are the same data struture in python which stores the hitroginous object.\n",
        "  but list gives the support of object reassiginment in the list while tuple dont support the object reassingment.\n",
        "\n",
        "Que-4  Describe how dictionaries store data?\n",
        "  Ans-4 Dictionaries is the data struture which store the data in key value pair as an object. for ex jason.\n",
        "\n",
        "Que-5 Why might you use a set instead of a list in Python?\n",
        "  Ans-5 Set are preffered for the programs which do not require same objects in the set while list can be used for storing the object which have the same values.\n",
        "\n",
        "Que-6 What is a string in Python, and how is it different from a list?\n",
        "  Ans-6 String are the sequence of the character store and represent text and string are immutable while list is the collection of object represented by the lsit and list are mutable.\n",
        "\n",
        "Que-7 How do tuples ensure data integrity in Python?\n",
        "  Ans-7 tupes ensure data integrity by Immutability safety which means the objects inside the tupl cannot be changed once created.\n",
        "\n",
        "Que-8 What is a hash table, and how does it relate to dictionaries in Python?\n",
        "  Ans-8 Hash table is the data struture which store the data in the form of key value pair which help in the faster access to the vale with the reference of the key and In python distionaries are build on the hash table.\n",
        "\n",
        "Que-9 Can lists contain different data types in Python3\n",
        "  Ans-9 Yes, list can store different data type in python as it store hetroginious type of object.\n",
        "\n",
        "Que-10  Explain why strings are immutable in Python?\n",
        "  Ans-10 Strings are Immutable in python because all the type of the data in the program are taken in the form of string so improve the data credibility string are created as immutable.\n",
        "\n",
        "Que-11 What advantages do dictionaries offer over lists for certain tasks?\n",
        "  Ans-11 Dictionaries provide verious advantages over the list data struture which are as follow\n",
        "    Faster accessiblity advantage because it store data in the key value pair while list store data in the index which provide faster traversal in dictionaries.\n",
        "    Object creation in dictionaries provide the advantage of storing data of the objject in the form of key\n",
        "    while in list we have to store data in the new list inside the main list.\n",
        "    prevent dublicate key must be unique while in list dublicate value can be stored which is not always a bad thing, but not always useful.\n",
        "\n",
        "Que-12 Describe a scenario where using a tuple would be preferable over a list?\n",
        "  Ans-12 I would use tuple data struture for storing data which should not be changed once inserted in the tuple.\n",
        "\n",
        "Que-13 How do sets handle duplicate values in Python?\n",
        "  Ans-13 Sets handle duplicate values using hash table by assiging the hash value to the data and check for the rest of the data for the same hashcode.\n",
        "\n",
        "Que-14 How does the “in” keyword work differently for lists and dictionaries?\n",
        "  Ans-14 \"In\" used in list is prefered for searching the elemet present in the the list or not it uses linear search which done by traversal of the list which takes time.\n",
        "  \"In\" used in dictionaries search for only key not for value which make it faster becase it uses hashing.\n",
        "\n",
        "Que-15 Can you modify the elements of a tuple? Explain why or why not?\n",
        "  Ans-15 No,we can't modify the element of he tuple because do not support mutibility of the objects.\n",
        "\n",
        "Que16 What is a nested dictionary, and give an example of its use case?\n",
        "  Ans-16 Nested dictionary is kind of dictionary were key will be pointing to the another dictionary where its key would be pointing to the value.\n",
        "\n",
        "Que17 Describe the time complexity of accessing elements in a dictionary?\n",
        "  Ans-17 Time complexity is the time taken by the program to finish its execution the best case time complexity of dictionary is O(1) which is the average time complexity.\n",
        "  the worst time complexity would be O(n) when the key are not distriubted properly.\n",
        "\n",
        "Que-18 In what situations are lists preferred over dictionaries?\n",
        "  Ans-18 List are pefered when we want to do iteration of the object in a paticular order or when we want ordered data or when we don't want key-values pair.\n",
        "\n",
        "Que-19 Why are dictionaries considered unordered, and how does that affect data retrieval?\n",
        "  Ans-19 dictionaries do preserve the insertion order of the insertion but the logically dictionaries are buils=d for faster retrival but not for preserving order of the insertion.\n",
        "\n",
        "Que-20  Explain the difference between a list and a dictionary in terms of data retrieval.\n",
        "  Ans-20 The main difference between list and dictionary in terms of data retrieval of the element list uses index and while dictionay uses key for the retrival of the element.\n",
        "\n"
      ],
      "metadata": {
        "id": "s9XXZMXsuXFe"
      }
    },
    {
      "cell_type": "code",
      "source": [
        "#Que1 Write a code to create a string with your name and print it.\n",
        "name = \"Jay Sahu\"\n",
        "print(name)"
      ],
      "metadata": {
        "colab": {
          "base_uri": "https://localhost:8080/"
        },
        "id": "t9aZl1eeOqQQ",
        "outputId": "aa59c5c6-e87c-49ba-869a-d7010a0a4f26"
      },
      "execution_count": 1,
      "outputs": [
        {
          "output_type": "stream",
          "name": "stdout",
          "text": [
            "Jay Sahu\n"
          ]
        }
      ]
    },
    {
      "cell_type": "code",
      "source": [
        "#Que-2  Write a code to find the length of the string \"Hello World\".\n",
        "variable1 = \"Hello World\"\n",
        "len(variable1)"
      ],
      "metadata": {
        "colab": {
          "base_uri": "https://localhost:8080/"
        },
        "id": "sElIq011OyKy",
        "outputId": "9a91c301-ade9-4cab-982c-608b29f38cef"
      },
      "execution_count": 2,
      "outputs": [
        {
          "output_type": "execute_result",
          "data": {
            "text/plain": [
              "11"
            ]
          },
          "metadata": {},
          "execution_count": 2
        }
      ]
    },
    {
      "cell_type": "code",
      "source": [
        "#Que-3 Write a code to slice the first 3 characters from the string \"Python Programming\".\n",
        "variable2 = \"Python Programming\"\n",
        "variable2[0:3]"
      ],
      "metadata": {
        "colab": {
          "base_uri": "https://localhost:8080/",
          "height": 36
        },
        "id": "E7QLidv4PEd1",
        "outputId": "bed46574-967c-468f-b088-dec8a9c63dc5"
      },
      "execution_count": 5,
      "outputs": [
        {
          "output_type": "execute_result",
          "data": {
            "text/plain": [
              "'Pyt'"
            ],
            "application/vnd.google.colaboratory.intrinsic+json": {
              "type": "string"
            }
          },
          "metadata": {},
          "execution_count": 5
        }
      ]
    },
    {
      "cell_type": "code",
      "source": [
        "#Que-4 Write a code to convert the string \"hello\" to uppercase.\n",
        "variable3 = \"hello\"\n",
        "variable3.upper()"
      ],
      "metadata": {
        "colab": {
          "base_uri": "https://localhost:8080/",
          "height": 36
        },
        "id": "6aXCrL8XPW47",
        "outputId": "c2167c32-eff7-45fa-a7af-508cdca9808a"
      },
      "execution_count": 6,
      "outputs": [
        {
          "output_type": "execute_result",
          "data": {
            "text/plain": [
              "'HELLO'"
            ],
            "application/vnd.google.colaboratory.intrinsic+json": {
              "type": "string"
            }
          },
          "metadata": {},
          "execution_count": 6
        }
      ]
    },
    {
      "cell_type": "code",
      "source": [
        "# Que 5 Write a code to replace the word \"apple\" with \"orange\" in the string \"I like apple\".\n",
        "variable4 = \"I Like apple\"\n",
        "variable4.replace(\"apple\",\"orange\")\n"
      ],
      "metadata": {
        "colab": {
          "base_uri": "https://localhost:8080/",
          "height": 36
        },
        "id": "ZbIAbPLzPrqR",
        "outputId": "461d9cde-d6f3-4c79-f2b4-a98858bf8842"
      },
      "execution_count": 8,
      "outputs": [
        {
          "output_type": "execute_result",
          "data": {
            "text/plain": [
              "'I Like orange'"
            ],
            "application/vnd.google.colaboratory.intrinsic+json": {
              "type": "string"
            }
          },
          "metadata": {},
          "execution_count": 8
        }
      ]
    },
    {
      "cell_type": "code",
      "source": [
        "# Que-6 Write a code to create a list with numbers 1 to 5 and print it.\n",
        "list1 = [1,2,3,4,5]\n",
        "print(list1)"
      ],
      "metadata": {
        "colab": {
          "base_uri": "https://localhost:8080/"
        },
        "id": "lcKUJR7AQJQZ",
        "outputId": "0cd86717-40fe-4815-81ac-38a38473fcd8"
      },
      "execution_count": 9,
      "outputs": [
        {
          "output_type": "stream",
          "name": "stdout",
          "text": [
            "[1, 2, 3, 4, 5]\n"
          ]
        }
      ]
    },
    {
      "cell_type": "code",
      "source": [
        "# Que-7 Write a code to append the number 10 to the list [1, 2, 3, 4].\n",
        "list1.append(10)\n",
        "print(list1)"
      ],
      "metadata": {
        "colab": {
          "base_uri": "https://localhost:8080/"
        },
        "id": "KqsUN0bSRPnj",
        "outputId": "ca38c2d5-5f73-46e5-e15b-490b1c0b9f72"
      },
      "execution_count": 10,
      "outputs": [
        {
          "output_type": "stream",
          "name": "stdout",
          "text": [
            "[1, 2, 3, 4, 5, 10]\n"
          ]
        }
      ]
    },
    {
      "cell_type": "code",
      "source": [
        "# Que-8 Write a code to remove the number 3 from the list [1, 2, 3, 4, 5].\n",
        "list2 = [1,2,3,4,5]\n",
        "list2.remove(3)\n",
        "print(list2)"
      ],
      "metadata": {
        "colab": {
          "base_uri": "https://localhost:8080/"
        },
        "id": "AFzEfFjjRyr0",
        "outputId": "8e2ae8be-b42f-4b06-dfb6-7985a4c25a5f"
      },
      "execution_count": 13,
      "outputs": [
        {
          "output_type": "stream",
          "name": "stdout",
          "text": [
            "[1, 2, 4, 5]\n"
          ]
        }
      ]
    },
    {
      "cell_type": "code",
      "source": [
        "# Que-9 Write a code to access the second element in the list ['a', 'b', 'c', 'd'].\n",
        "list3 = ['a', 'b', 'c', 'd']\n",
        "list3[1]"
      ],
      "metadata": {
        "colab": {
          "base_uri": "https://localhost:8080/",
          "height": 36
        },
        "id": "W2mWhEFaSLPA",
        "outputId": "ad5bf575-472e-498f-b146-ea5649535061"
      },
      "execution_count": 14,
      "outputs": [
        {
          "output_type": "execute_result",
          "data": {
            "text/plain": [
              "'b'"
            ],
            "application/vnd.google.colaboratory.intrinsic+json": {
              "type": "string"
            }
          },
          "metadata": {},
          "execution_count": 14
        }
      ]
    },
    {
      "cell_type": "code",
      "source": [
        "# Que-10 Write a code to reverse the list [10, 20, 30, 40, 50].\n",
        "list4 = [10, 20, 30, 40, 50]\n",
        "print(list4[::-1])"
      ],
      "metadata": {
        "colab": {
          "base_uri": "https://localhost:8080/"
        },
        "id": "AwTz2H_KSlKo",
        "outputId": "ea179653-4b4b-4835-f6e8-2bf536e240ff"
      },
      "execution_count": 15,
      "outputs": [
        {
          "output_type": "stream",
          "name": "stdout",
          "text": [
            "[50, 40, 30, 20, 10]\n"
          ]
        }
      ]
    },
    {
      "cell_type": "code",
      "source": [
        "# Que-11 Write a code to create a tuple with the elements 100, 200, 300 and print it.\n",
        "tuple1 = (100,200,300)\n",
        "print(tuple1)"
      ],
      "metadata": {
        "colab": {
          "base_uri": "https://localhost:8080/"
        },
        "id": "fSXDPy-XS_CI",
        "outputId": "af2ac9a9-fb72-42d7-9633-068889fc628d"
      },
      "execution_count": 16,
      "outputs": [
        {
          "output_type": "stream",
          "name": "stdout",
          "text": [
            "(100, 200, 300)\n"
          ]
        }
      ]
    },
    {
      "cell_type": "code",
      "source": [
        "from pickle import TUPLE2\n",
        "# Que-12  Write a code to access the second-to-last element of the tuple ('red', 'green', 'blue', 'yellow').\n",
        "tuple2 = (\"red\",\"green\",\"blue\",\"yello\")\n",
        "print(tuple2[-2])"
      ],
      "metadata": {
        "colab": {
          "base_uri": "https://localhost:8080/"
        },
        "id": "ZoGjsh2aULKr",
        "outputId": "efb0b36a-e55d-45e4-8fd3-d91f4e8253e1"
      },
      "execution_count": 22,
      "outputs": [
        {
          "output_type": "stream",
          "name": "stdout",
          "text": [
            "blue\n"
          ]
        }
      ]
    },
    {
      "cell_type": "code",
      "source": [
        "# Que-13 Write a code to find the minimum number in the tuple (10, 20, 5, 15).\n",
        "tuple3 = (10,20,5,15)\n",
        "min(tuple3)"
      ],
      "metadata": {
        "colab": {
          "base_uri": "https://localhost:8080/"
        },
        "id": "u4QNFsVOU8MA",
        "outputId": "e77f8886-81d6-4b3b-913e-f11591c83d27"
      },
      "execution_count": 27,
      "outputs": [
        {
          "output_type": "execute_result",
          "data": {
            "text/plain": [
              "5"
            ]
          },
          "metadata": {},
          "execution_count": 27
        }
      ]
    },
    {
      "cell_type": "code",
      "source": [
        "# Que-14  Write a code to find the index of the element \"cat\" in the tuple ('dog', 'cat', 'rabbit').\n",
        "tuple4 = ('dog', 'cat', 'rabbit')\n",
        "print(tuple4.index(\"cat\"))"
      ],
      "metadata": {
        "colab": {
          "base_uri": "https://localhost:8080/"
        },
        "id": "qe-hYSY4WMYW",
        "outputId": "bff3299e-4a8b-491e-cf00-638927828277"
      },
      "execution_count": 28,
      "outputs": [
        {
          "output_type": "stream",
          "name": "stdout",
          "text": [
            "1\n"
          ]
        }
      ]
    },
    {
      "cell_type": "code",
      "source": [
        "# Que15 Write a code to create a tuple containing three different fruits and check if \"kiwi\" is in it.\n",
        "tuple5 = (\"Orange\",\"Banana\",\"kiwi\")\n",
        "if(\"kiwi\" in tuple5):\n",
        "  print(\"Kiwi is present\")\n",
        "else:\n",
        "  print(\"Kiwi is absent\")"
      ],
      "metadata": {
        "colab": {
          "base_uri": "https://localhost:8080/"
        },
        "id": "817eaE51Wv6y",
        "outputId": "3217c9b1-3653-4aa7-fcbf-8e2324a5de75"
      },
      "execution_count": 33,
      "outputs": [
        {
          "output_type": "stream",
          "name": "stdout",
          "text": [
            "Kiwi is present\n"
          ]
        }
      ]
    },
    {
      "cell_type": "code",
      "source": [
        "# Que-16  Write a code to create a set with the elements 'a', 'b', 'c' and print it.\n",
        "set1 = {\"a\",\"b\",\"c\"}\n",
        "print(set1)\n"
      ],
      "metadata": {
        "colab": {
          "base_uri": "https://localhost:8080/"
        },
        "id": "1ukNvXdtXYnu",
        "outputId": "54e852a4-7e10-4072-cea2-dc693705e11a"
      },
      "execution_count": 34,
      "outputs": [
        {
          "output_type": "stream",
          "name": "stdout",
          "text": [
            "{'c', 'a', 'b'}\n"
          ]
        }
      ]
    },
    {
      "cell_type": "code",
      "source": [
        "# Que-17 Write a code to clear all elements from the set {1, 2, 3, 4, 5}.\n",
        "set2 = {1,2,3,4,5}\n",
        "set2.clear()\n",
        "print(set2)"
      ],
      "metadata": {
        "colab": {
          "base_uri": "https://localhost:8080/"
        },
        "id": "PQfQ4xGoZ_S8",
        "outputId": "db01df4f-93c5-4601-d4bb-db1fb38952ea"
      },
      "execution_count": 35,
      "outputs": [
        {
          "output_type": "stream",
          "name": "stdout",
          "text": [
            "set()\n"
          ]
        }
      ]
    },
    {
      "cell_type": "code",
      "source": [
        "#Que-18 Write a code to remove the element 4 from the set {1, 2, 3, 4}.\n",
        "set3 = {1,2,3,4}\n",
        "set3.remove(4)\n",
        "print(set3)"
      ],
      "metadata": {
        "colab": {
          "base_uri": "https://localhost:8080/"
        },
        "id": "Zp-SKRSzaokT",
        "outputId": "366cd025-29f2-45b0-9c62-20cd820da5fa"
      },
      "execution_count": 36,
      "outputs": [
        {
          "output_type": "stream",
          "name": "stdout",
          "text": [
            "{1, 2, 3}\n"
          ]
        }
      ]
    },
    {
      "cell_type": "code",
      "source": [
        "#Que-19 Write a code to find the union of two sets {1, 2, 3} and {3, 4, 5}.\n",
        "set4 = {1,2,3}\n",
        "set5 = {3,4,5}\n",
        "set6 = set4.union(set5)\n",
        "print(set6)"
      ],
      "metadata": {
        "colab": {
          "base_uri": "https://localhost:8080/"
        },
        "id": "rgu5s9Q2ayoZ",
        "outputId": "430bcfe4-e70e-4bd0-9cc2-bbe3d2250830"
      },
      "execution_count": 40,
      "outputs": [
        {
          "output_type": "stream",
          "name": "stdout",
          "text": [
            "{1, 2, 3, 4, 5}\n"
          ]
        }
      ]
    },
    {
      "cell_type": "code",
      "source": [
        "# Que-20  Write a code to find the intersection of two sets {1, 2, 3} and {2, 3, 4}.\n",
        "set7 = {1,2,3}\n",
        "set8 = {2,3,4}\n",
        "set9 = set7.intersection(set8)\n",
        "print(set9)"
      ],
      "metadata": {
        "colab": {
          "base_uri": "https://localhost:8080/"
        },
        "id": "mY-XLEaXbH_G",
        "outputId": "839c15fd-4163-4e24-9127-c805227e9dd0"
      },
      "execution_count": 42,
      "outputs": [
        {
          "output_type": "stream",
          "name": "stdout",
          "text": [
            "{2, 3}\n"
          ]
        }
      ]
    },
    {
      "cell_type": "code",
      "source": [
        "# Que-21 Write a code to create a dictionary with the keys \"name\", \"age\", and \"city\", and print it.\n",
        "dictionary1 = {\n",
        "    \"name\": \"Jay\",\n",
        "    \"age\": 24,\n",
        "    \"city\": \"Bhopal\"\n",
        "}\n",
        "print(dictionary1)"
      ],
      "metadata": {
        "colab": {
          "base_uri": "https://localhost:8080/"
        },
        "id": "dp6jLa6Eb08q",
        "outputId": "77420ca3-5440-4092-c285-eae21b18b4d8"
      },
      "execution_count": 44,
      "outputs": [
        {
          "output_type": "stream",
          "name": "stdout",
          "text": [
            "{'name': 'Jay', 'age': 24, 'city': 'Bhopal'}\n"
          ]
        }
      ]
    },
    {
      "cell_type": "code",
      "source": [
        "# Que-22  Write a code to add a new key-value pair \"country\": \"USA\" to the dictionary {'name': 'John', 'age': 25}.\n",
        "disctionary2 = {\n",
        "    \"name\" : \"John\",\n",
        "    \"age\" : 25\n",
        "}\n",
        "disctionary2[\"country\"] = \"USA\"\n",
        "print(disctionary2)"
      ],
      "metadata": {
        "colab": {
          "base_uri": "https://localhost:8080/"
        },
        "id": "GCNgU9qCdy32",
        "outputId": "4e9891c0-b44a-4ab7-9c66-188ed83554fa"
      },
      "execution_count": 46,
      "outputs": [
        {
          "output_type": "stream",
          "name": "stdout",
          "text": [
            "{'name': 'John', 'age': 25, 'country': 'USA'}\n"
          ]
        }
      ]
    },
    {
      "cell_type": "code",
      "source": [
        "# Que-23 Write a code to access the value associated with the key \"name\" in the dictionary {'name': 'Alice', 'age': 30}.\n",
        "dictionary3 = {\n",
        "    \"name\" : \"Alice\",\n",
        "    \"age\" : 30\n",
        "}\n",
        "print(dictionary3[\"name\"])"
      ],
      "metadata": {
        "colab": {
          "base_uri": "https://localhost:8080/"
        },
        "id": "6iEE5XipfJI2",
        "outputId": "94584405-b371-4dc1-d7f0-32b2b381e25e"
      },
      "execution_count": 47,
      "outputs": [
        {
          "output_type": "stream",
          "name": "stdout",
          "text": [
            "Alice\n"
          ]
        }
      ]
    },
    {
      "cell_type": "code",
      "source": [
        "# Que-24  Write a code to remove the key \"age\" from the dictionary {'name': 'Bob', 'age': 22, 'city': 'New York'}.\n",
        "\n",
        "dictionary4 = {\n",
        "    \"name\" : \"Bob\",\n",
        "    \"age\" : 22,\n",
        "    \"city\" : \"New York\"\n",
        "}\n",
        "del dictionary4[\"age\"]\n",
        "print(dictionary4)"
      ],
      "metadata": {
        "colab": {
          "base_uri": "https://localhost:8080/"
        },
        "id": "gfRMyQEihU8C",
        "outputId": "5c7cb87d-d0b3-442d-9b69-3231c034480e"
      },
      "execution_count": 48,
      "outputs": [
        {
          "output_type": "stream",
          "name": "stdout",
          "text": [
            "{'name': 'Bob', 'city': 'New York'}\n"
          ]
        }
      ]
    },
    {
      "cell_type": "code",
      "source": [
        "# Que-25 Write a code to check if the key \"city\" exists in the dictionary {'name': 'Alice', 'city': 'Paris'}.\n",
        "dictionary5 = {\n",
        "    \"name\" : \"Alice\",\n",
        "    \"city\" : \"Paris\"\n",
        "}\n",
        "if(\"city\" in dictionary5):\n",
        "  print(\"City is present\")\n",
        "else:\n",
        "  print(\"City is absent\")"
      ],
      "metadata": {
        "colab": {
          "base_uri": "https://localhost:8080/"
        },
        "id": "PU4qxk10h5sr",
        "outputId": "20f7d3ca-9ddc-4623-8bc3-a1fcee4e0180"
      },
      "execution_count": 49,
      "outputs": [
        {
          "output_type": "stream",
          "name": "stdout",
          "text": [
            "City is present\n"
          ]
        }
      ]
    },
    {
      "cell_type": "code",
      "source": [
        "# Que-26 Write a code to create a list, a tuple, and a dictionary, and print them all.\n",
        "list9 = [1,2,3,4,5]\n",
        "tuple9 = (1,2,3,4,5)\n",
        "dictionary9 = {\n",
        "    \"name\" : \"Jay\",\n",
        "    \"age\" : 24,\n",
        "    \"city\" : \"Bhopal\"\n",
        "}\n",
        "print(list9)\n",
        "print(tuple9)\n",
        "print(dictionary9)"
      ],
      "metadata": {
        "colab": {
          "base_uri": "https://localhost:8080/"
        },
        "id": "lAkBAwrniShm",
        "outputId": "78d883fa-1116-4ac8-b168-73894d1906b4"
      },
      "execution_count": 50,
      "outputs": [
        {
          "output_type": "stream",
          "name": "stdout",
          "text": [
            "[1, 2, 3, 4, 5]\n",
            "(1, 2, 3, 4, 5)\n",
            "{'name': 'Jay', 'age': 24, 'city': 'Bhopal'}\n"
          ]
        }
      ]
    },
    {
      "cell_type": "code",
      "source": [
        "# Que-27 Write a code to create a list of 5 random numbers between 1 and 100, sort it in ascending order, and print the\n",
        "# result.(replaced)\n",
        "list10 = [98,65,34,6,21]\n",
        "list10.sort()\n",
        "print(list10)"
      ],
      "metadata": {
        "colab": {
          "base_uri": "https://localhost:8080/"
        },
        "id": "YXYmk30SimQN",
        "outputId": "26aae7bc-dec4-4fd0-8d99-45fde627c6ea"
      },
      "execution_count": 53,
      "outputs": [
        {
          "output_type": "stream",
          "name": "stdout",
          "text": [
            "[6, 21, 34, 65, 98]\n"
          ]
        }
      ]
    },
    {
      "cell_type": "code",
      "source": [
        "# Que-28 Write a code to create a list with strings and print the element at the third index.\n",
        "list11 = [\"Jay\",\"Sahu\",\"Bhopal\"]\n",
        "print(list11[2])"
      ],
      "metadata": {
        "colab": {
          "base_uri": "https://localhost:8080/"
        },
        "id": "WBCrvWBbjYXg",
        "outputId": "c30b02a6-28b3-47c3-e051-433a85d2eb48"
      },
      "execution_count": 54,
      "outputs": [
        {
          "output_type": "stream",
          "name": "stdout",
          "text": [
            "Bhopal\n"
          ]
        }
      ]
    },
    {
      "cell_type": "code",
      "source": [
        "# Que-29  Write a code to combine two dictionaries into one and print the result.\n",
        "dictionary6 = {\n",
        "    \"name\" : \"Jay\",\n",
        "    \"age\" : 24\n",
        "}\n",
        "dictionary7 = {\n",
        "    \"city\" : \"Bhopal\",\n",
        "    \"country\" : \"India\"\n",
        "}\n",
        "dictionary8 = dictionary6.copy()\n",
        "dictionary8.update(dictionary7)\n",
        "print(dictionary8)"
      ],
      "metadata": {
        "colab": {
          "base_uri": "https://localhost:8080/"
        },
        "id": "C3XZSF-zjxx0",
        "outputId": "1ec1c298-8b0a-43f0-9f3f-23722b4f7d3f"
      },
      "execution_count": 55,
      "outputs": [
        {
          "output_type": "stream",
          "name": "stdout",
          "text": [
            "{'name': 'Jay', 'age': 24, 'city': 'Bhopal', 'country': 'India'}\n"
          ]
        }
      ]
    },
    {
      "cell_type": "code",
      "source": [
        "# Que-30 Write a code to convert a list of strings into a set.\n",
        "list12 = [\"Jay\",\"Sahu\",\"Bhopal\"]\n",
        "set10 = set(list12)\n",
        "print(set10)"
      ],
      "metadata": {
        "colab": {
          "base_uri": "https://localhost:8080/"
        },
        "id": "-vkujmyEkTbd",
        "outputId": "3a9ff2a1-e7f9-4184-e62d-31202d26cb4d"
      },
      "execution_count": 56,
      "outputs": [
        {
          "output_type": "stream",
          "name": "stdout",
          "text": [
            "{'Sahu', 'Bhopal', 'Jay'}\n"
          ]
        }
      ]
    },
    {
      "cell_type": "code",
      "source": [],
      "metadata": {
        "id": "b_zwkFRBkjDO"
      },
      "execution_count": null,
      "outputs": []
    }
  ]
}